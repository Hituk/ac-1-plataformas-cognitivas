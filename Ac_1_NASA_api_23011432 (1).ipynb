{
  "nbformat": 4,
  "nbformat_minor": 0,
  "metadata": {
    "colab": {
      "provenance": []
    },
    "kernelspec": {
      "name": "python3",
      "display_name": "Python 3"
    },
    "language_info": {
      "name": "python"
    }
  },
  "cells": [
    {
      "cell_type": "code",
      "source": [
        "import requests\n",
        "resposta = requests.get(f\"https://api.nasa.gov/mars-photos/api/v1/rovers/curiosity/photos?sol=1000&camera=rhaz&api_key=TMPJZezyEc3YiSRv9kHXsjLzgyYYyaK3hh7lFgPZ\")\n",
        "print(resposta)\n",
        "resposta.json()"
      ],
      "metadata": {
        "colab": {
          "base_uri": "https://localhost:8080/"
        },
        "id": "LuJguaX523xo",
        "outputId": "d6f72e9c-d57e-45f6-cd4a-86b5010698fb"
      },
      "execution_count": null,
      "outputs": [
        {
          "output_type": "stream",
          "name": "stdout",
          "text": [
            "<Response [200]>\n"
          ]
        },
        {
          "output_type": "execute_result",
          "data": {
            "text/plain": [
              "{'photos': [{'id': 102850,\n",
              "   'sol': 1000,\n",
              "   'camera': {'id': 21,\n",
              "    'name': 'RHAZ',\n",
              "    'rover_id': 5,\n",
              "    'full_name': 'Rear Hazard Avoidance Camera'},\n",
              "   'img_src': 'http://mars.jpl.nasa.gov/msl-raw-images/proj/msl/redops/ods/surface/sol/01000/opgs/edr/rcam/RLB_486265291EDR_F0481570RHAZ00323M_.JPG',\n",
              "   'earth_date': '2015-05-30',\n",
              "   'rover': {'id': 5,\n",
              "    'name': 'Curiosity',\n",
              "    'landing_date': '2012-08-06',\n",
              "    'launch_date': '2011-11-26',\n",
              "    'status': 'active',\n",
              "    'max_sol': 4102,\n",
              "    'max_date': '2024-02-19',\n",
              "    'total_photos': 695670,\n",
              "    'cameras': [{'name': 'FHAZ', 'full_name': 'Front Hazard Avoidance Camera'},\n",
              "     {'name': 'NAVCAM', 'full_name': 'Navigation Camera'},\n",
              "     {'name': 'MAST', 'full_name': 'Mast Camera'},\n",
              "     {'name': 'CHEMCAM', 'full_name': 'Chemistry and Camera Complex'},\n",
              "     {'name': 'MAHLI', 'full_name': 'Mars Hand Lens Imager'},\n",
              "     {'name': 'MARDI', 'full_name': 'Mars Descent Imager'},\n",
              "     {'name': 'RHAZ', 'full_name': 'Rear Hazard Avoidance Camera'}]}},\n",
              "  {'id': 102851,\n",
              "   'sol': 1000,\n",
              "   'camera': {'id': 21,\n",
              "    'name': 'RHAZ',\n",
              "    'rover_id': 5,\n",
              "    'full_name': 'Rear Hazard Avoidance Camera'},\n",
              "   'img_src': 'http://mars.jpl.nasa.gov/msl-raw-images/proj/msl/redops/ods/surface/sol/01000/opgs/edr/rcam/RRB_486265291EDR_F0481570RHAZ00323M_.JPG',\n",
              "   'earth_date': '2015-05-30',\n",
              "   'rover': {'id': 5,\n",
              "    'name': 'Curiosity',\n",
              "    'landing_date': '2012-08-06',\n",
              "    'launch_date': '2011-11-26',\n",
              "    'status': 'active',\n",
              "    'max_sol': 4102,\n",
              "    'max_date': '2024-02-19',\n",
              "    'total_photos': 695670,\n",
              "    'cameras': [{'name': 'FHAZ', 'full_name': 'Front Hazard Avoidance Camera'},\n",
              "     {'name': 'NAVCAM', 'full_name': 'Navigation Camera'},\n",
              "     {'name': 'MAST', 'full_name': 'Mast Camera'},\n",
              "     {'name': 'CHEMCAM', 'full_name': 'Chemistry and Camera Complex'},\n",
              "     {'name': 'MAHLI', 'full_name': 'Mars Hand Lens Imager'},\n",
              "     {'name': 'MARDI', 'full_name': 'Mars Descent Imager'},\n",
              "     {'name': 'RHAZ', 'full_name': 'Rear Hazard Avoidance Camera'}]}}]}"
            ]
          },
          "metadata": {},
          "execution_count": 9
        }
      ]
    }
  ]
}